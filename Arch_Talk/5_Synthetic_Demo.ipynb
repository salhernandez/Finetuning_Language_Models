{
  "cells": [
    {
      "cell_type": "markdown",
      "id": "de10f85f",
      "metadata": {},
      "source": [
        "# Synthetic Demo"
      ]
    },
    {
      "cell_type": "code",
      "execution_count": null,
      "id": "w_Fr3bUq5OHP",
      "metadata": {
        "colab": {
          "base_uri": "https://localhost:8080/"
        },
        "id": "w_Fr3bUq5OHP",
        "outputId": "59955290-6cc7-48a7-e9e1-d48f755a6bee"
      },
      "outputs": [
        {
          "name": "stdout",
          "output_type": "stream",
          "text": [
            "Requirement already satisfied: distilabel[hf-transformers,instructor,outlines] in /usr/local/lib/python3.12/dist-packages (1.5.3)\n",
            "Requirement already satisfied: datasets>=2.16.0 in /usr/local/lib/python3.12/dist-packages (from distilabel[hf-transformers,instructor,outlines]) (4.0.0)\n",
            "Requirement already satisfied: httpx>=0.25.2 in /usr/local/lib/python3.12/dist-packages (from distilabel[hf-transformers,instructor,outlines]) (0.28.1)\n",
            "Requirement already satisfied: jinja2>=3.1.2 in /usr/local/lib/python3.12/dist-packages (from distilabel[hf-transformers,instructor,outlines]) (3.1.6)\n",
            "Requirement already satisfied: multiprocess>=0.70 in /usr/local/lib/python3.12/dist-packages (from distilabel[hf-transformers,instructor,outlines]) (0.70.16)\n",
            "Requirement already satisfied: nest-asyncio>=1.6.0 in /usr/local/lib/python3.12/dist-packages (from distilabel[hf-transformers,instructor,outlines]) (1.6.0)\n",
            "Requirement already satisfied: networkx>=3.0 in /usr/local/lib/python3.12/dist-packages (from distilabel[hf-transformers,instructor,outlines]) (3.5)\n",
            "Requirement already satisfied: orjson>=3.10.0 in /usr/local/lib/python3.12/dist-packages (from distilabel[hf-transformers,instructor,outlines]) (3.11.2)\n",
            "Requirement already satisfied: portalocker>=2.8.2 in /usr/local/lib/python3.12/dist-packages (from distilabel[hf-transformers,instructor,outlines]) (3.2.0)\n",
            "Requirement already satisfied: pydantic>=2.0 in /usr/local/lib/python3.12/dist-packages (from distilabel[hf-transformers,instructor,outlines]) (2.11.7)\n",
            "Requirement already satisfied: rich>=13.5.0 in /usr/local/lib/python3.12/dist-packages (from distilabel[hf-transformers,instructor,outlines]) (13.9.4)\n",
            "Requirement already satisfied: scipy>=1.10.0 in /usr/local/lib/python3.12/dist-packages (from distilabel[hf-transformers,instructor,outlines]) (1.16.1)\n",
            "Requirement already satisfied: setuptools in /usr/local/lib/python3.12/dist-packages (from distilabel[hf-transformers,instructor,outlines]) (75.2.0)\n",
            "Requirement already satisfied: tblib>=3.0.0 in /usr/local/lib/python3.12/dist-packages (from distilabel[hf-transformers,instructor,outlines]) (3.1.0)\n",
            "Requirement already satisfied: typer>=0.9.0 in /usr/local/lib/python3.12/dist-packages (from distilabel[hf-transformers,instructor,outlines]) (0.16.1)\n",
            "Requirement already satisfied: universal-pathlib>=0.2.2 in /usr/local/lib/python3.12/dist-packages (from distilabel[hf-transformers,instructor,outlines]) (0.2.6)\n",
            "Requirement already satisfied: torch>=2.0.0 in /usr/local/lib/python3.12/dist-packages (from distilabel[hf-transformers,instructor,outlines]) (2.8.0+cu126)\n",
            "Requirement already satisfied: transformers>=4.34.1 in /usr/local/lib/python3.12/dist-packages (from distilabel[hf-transformers,instructor,outlines]) (4.55.4)\n",
            "Requirement already satisfied: instructor>=1.2.3 in /usr/local/lib/python3.12/dist-packages (from distilabel[hf-transformers,instructor,outlines]) (1.11.2)\n",
            "Requirement already satisfied: numba>=0.54.0 in /usr/local/lib/python3.12/dist-packages (from distilabel[hf-transformers,instructor,outlines]) (0.60.0)\n",
            "Requirement already satisfied: outlines>=0.0.40 in /usr/local/lib/python3.12/dist-packages (from distilabel[hf-transformers,instructor,outlines]) (1.2.3)\n",
            "Requirement already satisfied: filelock in /usr/local/lib/python3.12/dist-packages (from datasets>=2.16.0->distilabel[hf-transformers,instructor,outlines]) (3.19.1)\n",
            "Requirement already satisfied: numpy>=1.17 in /usr/local/lib/python3.12/dist-packages (from datasets>=2.16.0->distilabel[hf-transformers,instructor,outlines]) (2.0.2)\n",
            "Requirement already satisfied: pyarrow>=15.0.0 in /usr/local/lib/python3.12/dist-packages (from datasets>=2.16.0->distilabel[hf-transformers,instructor,outlines]) (18.1.0)\n",
            "Requirement already satisfied: dill<0.3.9,>=0.3.0 in /usr/local/lib/python3.12/dist-packages (from datasets>=2.16.0->distilabel[hf-transformers,instructor,outlines]) (0.3.8)\n",
            "Requirement already satisfied: pandas in /usr/local/lib/python3.12/dist-packages (from datasets>=2.16.0->distilabel[hf-transformers,instructor,outlines]) (2.2.2)\n",
            "Requirement already satisfied: requests>=2.32.2 in /usr/local/lib/python3.12/dist-packages (from datasets>=2.16.0->distilabel[hf-transformers,instructor,outlines]) (2.32.4)\n",
            "Requirement already satisfied: tqdm>=4.66.3 in /usr/local/lib/python3.12/dist-packages (from datasets>=2.16.0->distilabel[hf-transformers,instructor,outlines]) (4.67.1)\n",
            "Requirement already satisfied: xxhash in /usr/local/lib/python3.12/dist-packages (from datasets>=2.16.0->distilabel[hf-transformers,instructor,outlines]) (3.5.0)\n",
            "Requirement already satisfied: fsspec<=2025.3.0,>=2023.1.0 in /usr/local/lib/python3.12/dist-packages (from fsspec[http]<=2025.3.0,>=2023.1.0->datasets>=2.16.0->distilabel[hf-transformers,instructor,outlines]) (2025.3.0)\n",
            "Requirement already satisfied: huggingface-hub>=0.24.0 in /usr/local/lib/python3.12/dist-packages (from datasets>=2.16.0->distilabel[hf-transformers,instructor,outlines]) (0.34.4)\n",
            "Requirement already satisfied: packaging in /usr/local/lib/python3.12/dist-packages (from datasets>=2.16.0->distilabel[hf-transformers,instructor,outlines]) (25.0)\n",
            "Requirement already satisfied: pyyaml>=5.1 in /usr/local/lib/python3.12/dist-packages (from datasets>=2.16.0->distilabel[hf-transformers,instructor,outlines]) (6.0.2)\n",
            "Requirement already satisfied: anyio in /usr/local/lib/python3.12/dist-packages (from httpx>=0.25.2->distilabel[hf-transformers,instructor,outlines]) (4.10.0)\n",
            "Requirement already satisfied: certifi in /usr/local/lib/python3.12/dist-packages (from httpx>=0.25.2->distilabel[hf-transformers,instructor,outlines]) (2025.8.3)\n",
            "Requirement already satisfied: httpcore==1.* in /usr/local/lib/python3.12/dist-packages (from httpx>=0.25.2->distilabel[hf-transformers,instructor,outlines]) (1.0.9)\n",
            "Requirement already satisfied: idna in /usr/local/lib/python3.12/dist-packages (from httpx>=0.25.2->distilabel[hf-transformers,instructor,outlines]) (3.10)\n",
            "Requirement already satisfied: h11>=0.16 in /usr/local/lib/python3.12/dist-packages (from httpcore==1.*->httpx>=0.25.2->distilabel[hf-transformers,instructor,outlines]) (0.16.0)\n",
            "Requirement already satisfied: aiohttp<4.0.0,>=3.9.1 in /usr/local/lib/python3.12/dist-packages (from instructor>=1.2.3->distilabel[hf-transformers,instructor,outlines]) (3.12.15)\n",
            "Requirement already satisfied: diskcache>=5.6.3 in /usr/local/lib/python3.12/dist-packages (from instructor>=1.2.3->distilabel[hf-transformers,instructor,outlines]) (5.6.3)\n",
            "Requirement already satisfied: docstring-parser<1.0,>=0.16 in /usr/local/lib/python3.12/dist-packages (from instructor>=1.2.3->distilabel[hf-transformers,instructor,outlines]) (0.17.0)\n",
            "Requirement already satisfied: jiter<0.11,>=0.6.1 in /usr/local/lib/python3.12/dist-packages (from instructor>=1.2.3->distilabel[hf-transformers,instructor,outlines]) (0.10.0)\n",
            "Requirement already satisfied: openai<2.0.0,>=1.70.0 in /usr/local/lib/python3.12/dist-packages (from instructor>=1.2.3->distilabel[hf-transformers,instructor,outlines]) (1.101.0)\n",
            "Requirement already satisfied: pydantic-core<3.0.0,>=2.18.0 in /usr/local/lib/python3.12/dist-packages (from instructor>=1.2.3->distilabel[hf-transformers,instructor,outlines]) (2.33.2)\n",
            "Requirement already satisfied: tenacity<10.0.0,>=8.2.3 in /usr/local/lib/python3.12/dist-packages (from instructor>=1.2.3->distilabel[hf-transformers,instructor,outlines]) (8.5.0)\n",
            "Requirement already satisfied: MarkupSafe>=2.0 in /usr/local/lib/python3.12/dist-packages (from jinja2>=3.1.2->distilabel[hf-transformers,instructor,outlines]) (3.0.2)\n",
            "Requirement already satisfied: llvmlite<0.44,>=0.43.0dev0 in /usr/local/lib/python3.12/dist-packages (from numba>=0.54.0->distilabel[hf-transformers,instructor,outlines]) (0.43.0)\n",
            "Requirement already satisfied: cloudpickle in /usr/local/lib/python3.12/dist-packages (from outlines>=0.0.40->distilabel[hf-transformers,instructor,outlines]) (3.1.1)\n",
            "Requirement already satisfied: referencing in /usr/local/lib/python3.12/dist-packages (from outlines>=0.0.40->distilabel[hf-transformers,instructor,outlines]) (0.36.2)\n",
            "Requirement already satisfied: jsonschema in /usr/local/lib/python3.12/dist-packages (from outlines>=0.0.40->distilabel[hf-transformers,instructor,outlines]) (4.25.1)\n",
            "Requirement already satisfied: pillow in /usr/local/lib/python3.12/dist-packages (from outlines>=0.0.40->distilabel[hf-transformers,instructor,outlines]) (11.3.0)\n",
            "Requirement already satisfied: typing_extensions in /usr/local/lib/python3.12/dist-packages (from outlines>=0.0.40->distilabel[hf-transformers,instructor,outlines]) (4.15.0)\n",
            "Requirement already satisfied: iso3166 in /usr/local/lib/python3.12/dist-packages (from outlines>=0.0.40->distilabel[hf-transformers,instructor,outlines]) (2.1.1)\n",
            "Requirement already satisfied: airportsdata in /usr/local/lib/python3.12/dist-packages (from outlines>=0.0.40->distilabel[hf-transformers,instructor,outlines]) (20250811)\n",
            "Requirement already satisfied: outlines_core==0.2.11 in /usr/local/lib/python3.12/dist-packages (from outlines>=0.0.40->distilabel[hf-transformers,instructor,outlines]) (0.2.11)\n",
            "Requirement already satisfied: genson in /usr/local/lib/python3.12/dist-packages (from outlines>=0.0.40->distilabel[hf-transformers,instructor,outlines]) (1.3.0)\n",
            "Requirement already satisfied: jsonpath_ng in /usr/local/lib/python3.12/dist-packages (from outlines>=0.0.40->distilabel[hf-transformers,instructor,outlines]) (1.7.0)\n",
            "Requirement already satisfied: annotated-types>=0.6.0 in /usr/local/lib/python3.12/dist-packages (from pydantic>=2.0->distilabel[hf-transformers,instructor,outlines]) (0.7.0)\n",
            "Requirement already satisfied: typing-inspection>=0.4.0 in /usr/local/lib/python3.12/dist-packages (from pydantic>=2.0->distilabel[hf-transformers,instructor,outlines]) (0.4.1)\n",
            "Requirement already satisfied: markdown-it-py>=2.2.0 in /usr/local/lib/python3.12/dist-packages (from rich>=13.5.0->distilabel[hf-transformers,instructor,outlines]) (4.0.0)\n",
            "Requirement already satisfied: pygments<3.0.0,>=2.13.0 in /usr/local/lib/python3.12/dist-packages (from rich>=13.5.0->distilabel[hf-transformers,instructor,outlines]) (2.19.2)\n",
            "Requirement already satisfied: sympy>=1.13.3 in /usr/local/lib/python3.12/dist-packages (from torch>=2.0.0->distilabel[hf-transformers,instructor,outlines]) (1.13.3)\n",
            "Requirement already satisfied: nvidia-cuda-nvrtc-cu12==12.6.77 in /usr/local/lib/python3.12/dist-packages (from torch>=2.0.0->distilabel[hf-transformers,instructor,outlines]) (12.6.77)\n",
            "Requirement already satisfied: nvidia-cuda-runtime-cu12==12.6.77 in /usr/local/lib/python3.12/dist-packages (from torch>=2.0.0->distilabel[hf-transformers,instructor,outlines]) (12.6.77)\n",
            "Requirement already satisfied: nvidia-cuda-cupti-cu12==12.6.80 in /usr/local/lib/python3.12/dist-packages (from torch>=2.0.0->distilabel[hf-transformers,instructor,outlines]) (12.6.80)\n",
            "Requirement already satisfied: nvidia-cudnn-cu12==9.10.2.21 in /usr/local/lib/python3.12/dist-packages (from torch>=2.0.0->distilabel[hf-transformers,instructor,outlines]) (9.10.2.21)\n",
            "Requirement already satisfied: nvidia-cublas-cu12==12.6.4.1 in /usr/local/lib/python3.12/dist-packages (from torch>=2.0.0->distilabel[hf-transformers,instructor,outlines]) (12.6.4.1)\n",
            "Requirement already satisfied: nvidia-cufft-cu12==11.3.0.4 in /usr/local/lib/python3.12/dist-packages (from torch>=2.0.0->distilabel[hf-transformers,instructor,outlines]) (11.3.0.4)\n",
            "Requirement already satisfied: nvidia-curand-cu12==10.3.7.77 in /usr/local/lib/python3.12/dist-packages (from torch>=2.0.0->distilabel[hf-transformers,instructor,outlines]) (10.3.7.77)\n",
            "Requirement already satisfied: nvidia-cusolver-cu12==11.7.1.2 in /usr/local/lib/python3.12/dist-packages (from torch>=2.0.0->distilabel[hf-transformers,instructor,outlines]) (11.7.1.2)\n",
            "Requirement already satisfied: nvidia-cusparse-cu12==12.5.4.2 in /usr/local/lib/python3.12/dist-packages (from torch>=2.0.0->distilabel[hf-transformers,instructor,outlines]) (12.5.4.2)\n",
            "Requirement already satisfied: nvidia-cusparselt-cu12==0.7.1 in /usr/local/lib/python3.12/dist-packages (from torch>=2.0.0->distilabel[hf-transformers,instructor,outlines]) (0.7.1)\n",
            "Requirement already satisfied: nvidia-nccl-cu12==2.27.3 in /usr/local/lib/python3.12/dist-packages (from torch>=2.0.0->distilabel[hf-transformers,instructor,outlines]) (2.27.3)\n",
            "Requirement already satisfied: nvidia-nvtx-cu12==12.6.77 in /usr/local/lib/python3.12/dist-packages (from torch>=2.0.0->distilabel[hf-transformers,instructor,outlines]) (12.6.77)\n",
            "Requirement already satisfied: nvidia-nvjitlink-cu12==12.6.85 in /usr/local/lib/python3.12/dist-packages (from torch>=2.0.0->distilabel[hf-transformers,instructor,outlines]) (12.6.85)\n",
            "Requirement already satisfied: nvidia-cufile-cu12==1.11.1.6 in /usr/local/lib/python3.12/dist-packages (from torch>=2.0.0->distilabel[hf-transformers,instructor,outlines]) (1.11.1.6)\n",
            "Requirement already satisfied: triton==3.4.0 in /usr/local/lib/python3.12/dist-packages (from torch>=2.0.0->distilabel[hf-transformers,instructor,outlines]) (3.4.0)\n",
            "Requirement already satisfied: regex!=2019.12.17 in /usr/local/lib/python3.12/dist-packages (from transformers>=4.34.1->distilabel[hf-transformers,instructor,outlines]) (2024.11.6)\n",
            "Requirement already satisfied: tokenizers<0.22,>=0.21 in /usr/local/lib/python3.12/dist-packages (from transformers>=4.34.1->distilabel[hf-transformers,instructor,outlines]) (0.21.4)\n",
            "Requirement already satisfied: safetensors>=0.4.3 in /usr/local/lib/python3.12/dist-packages (from transformers>=4.34.1->distilabel[hf-transformers,instructor,outlines]) (0.6.2)\n",
            "Requirement already satisfied: click>=8.0.0 in /usr/local/lib/python3.12/dist-packages (from typer>=0.9.0->distilabel[hf-transformers,instructor,outlines]) (8.2.1)\n",
            "Requirement already satisfied: shellingham>=1.3.0 in /usr/local/lib/python3.12/dist-packages (from typer>=0.9.0->distilabel[hf-transformers,instructor,outlines]) (1.5.4)\n",
            "Requirement already satisfied: aiohappyeyeballs>=2.5.0 in /usr/local/lib/python3.12/dist-packages (from aiohttp<4.0.0,>=3.9.1->instructor>=1.2.3->distilabel[hf-transformers,instructor,outlines]) (2.6.1)\n",
            "Requirement already satisfied: aiosignal>=1.4.0 in /usr/local/lib/python3.12/dist-packages (from aiohttp<4.0.0,>=3.9.1->instructor>=1.2.3->distilabel[hf-transformers,instructor,outlines]) (1.4.0)\n",
            "Requirement already satisfied: attrs>=17.3.0 in /usr/local/lib/python3.12/dist-packages (from aiohttp<4.0.0,>=3.9.1->instructor>=1.2.3->distilabel[hf-transformers,instructor,outlines]) (25.3.0)\n",
            "Requirement already satisfied: frozenlist>=1.1.1 in /usr/local/lib/python3.12/dist-packages (from aiohttp<4.0.0,>=3.9.1->instructor>=1.2.3->distilabel[hf-transformers,instructor,outlines]) (1.7.0)\n",
            "Requirement already satisfied: multidict<7.0,>=4.5 in /usr/local/lib/python3.12/dist-packages (from aiohttp<4.0.0,>=3.9.1->instructor>=1.2.3->distilabel[hf-transformers,instructor,outlines]) (6.6.4)\n",
            "Requirement already satisfied: propcache>=0.2.0 in /usr/local/lib/python3.12/dist-packages (from aiohttp<4.0.0,>=3.9.1->instructor>=1.2.3->distilabel[hf-transformers,instructor,outlines]) (0.3.2)\n",
            "Requirement already satisfied: yarl<2.0,>=1.17.0 in /usr/local/lib/python3.12/dist-packages (from aiohttp<4.0.0,>=3.9.1->instructor>=1.2.3->distilabel[hf-transformers,instructor,outlines]) (1.20.1)\n",
            "Requirement already satisfied: hf-xet<2.0.0,>=1.1.3 in /usr/local/lib/python3.12/dist-packages (from huggingface-hub>=0.24.0->datasets>=2.16.0->distilabel[hf-transformers,instructor,outlines]) (1.1.8)\n",
            "Requirement already satisfied: mdurl~=0.1 in /usr/local/lib/python3.12/dist-packages (from markdown-it-py>=2.2.0->rich>=13.5.0->distilabel[hf-transformers,instructor,outlines]) (0.1.2)\n",
            "Requirement already satisfied: distro<2,>=1.7.0 in /usr/local/lib/python3.12/dist-packages (from openai<2.0.0,>=1.70.0->instructor>=1.2.3->distilabel[hf-transformers,instructor,outlines]) (1.9.0)\n",
            "Requirement already satisfied: sniffio in /usr/local/lib/python3.12/dist-packages (from openai<2.0.0,>=1.70.0->instructor>=1.2.3->distilabel[hf-transformers,instructor,outlines]) (1.3.1)\n",
            "Requirement already satisfied: charset_normalizer<4,>=2 in /usr/local/lib/python3.12/dist-packages (from requests>=2.32.2->datasets>=2.16.0->distilabel[hf-transformers,instructor,outlines]) (3.4.3)\n",
            "Requirement already satisfied: urllib3<3,>=1.21.1 in /usr/local/lib/python3.12/dist-packages (from requests>=2.32.2->datasets>=2.16.0->distilabel[hf-transformers,instructor,outlines]) (2.5.0)\n",
            "Requirement already satisfied: mpmath<1.4,>=1.1.0 in /usr/local/lib/python3.12/dist-packages (from sympy>=1.13.3->torch>=2.0.0->distilabel[hf-transformers,instructor,outlines]) (1.3.0)\n",
            "Requirement already satisfied: ply in /usr/local/lib/python3.12/dist-packages (from jsonpath_ng->outlines>=0.0.40->distilabel[hf-transformers,instructor,outlines]) (3.11)\n",
            "Requirement already satisfied: jsonschema-specifications>=2023.03.6 in /usr/local/lib/python3.12/dist-packages (from jsonschema->outlines>=0.0.40->distilabel[hf-transformers,instructor,outlines]) (2025.4.1)\n",
            "Requirement already satisfied: rpds-py>=0.7.1 in /usr/local/lib/python3.12/dist-packages (from jsonschema->outlines>=0.0.40->distilabel[hf-transformers,instructor,outlines]) (0.27.0)\n",
            "Requirement already satisfied: python-dateutil>=2.8.2 in /usr/local/lib/python3.12/dist-packages (from pandas->datasets>=2.16.0->distilabel[hf-transformers,instructor,outlines]) (2.9.0.post0)\n",
            "Requirement already satisfied: pytz>=2020.1 in /usr/local/lib/python3.12/dist-packages (from pandas->datasets>=2.16.0->distilabel[hf-transformers,instructor,outlines]) (2025.2)\n",
            "Requirement already satisfied: tzdata>=2022.7 in /usr/local/lib/python3.12/dist-packages (from pandas->datasets>=2.16.0->distilabel[hf-transformers,instructor,outlines]) (2025.2)\n",
            "Requirement already satisfied: six>=1.5 in /usr/local/lib/python3.12/dist-packages (from python-dateutil>=2.8.2->pandas->datasets>=2.16.0->distilabel[hf-transformers,instructor,outlines]) (1.17.0)\n"
          ]
        }
      ],
      "source": [
        "# !pip install \"distilabel[hf-transformers,outlines,instructor]\""
      ]
    },
    {
      "cell_type": "code",
      "execution_count": null,
      "id": "a67d0071",
      "metadata": {
        "colab": {
          "base_uri": "https://localhost:8080/"
        },
        "id": "a67d0071",
        "outputId": "f53e0299-36c2-490e-e622-4f73c300e32e"
      },
      "outputs": [
        {
          "name": "stderr",
          "output_type": "stream",
          "text": [
            "/tmp/ipykernel_413197/3703288869.py:3: DeprecationWarning: Importing from 'distilabel.llms' is deprecated and will be removed in a version 1.7.0. Import from 'distilabel.models' instead.\n",
            "  from distilabel.llms import TransformersLLM\n",
            "/home/ai-makina/.pyenv/versions/smol-course-2/lib/python3.10/site-packages/tqdm/auto.py:21: TqdmWarning: IProgress not found. Please update jupyter and ipywidgets. See https://ipywidgets.readthedocs.io/en/stable/user_install.html\n",
            "  from .autonotebook import tqdm as notebook_tqdm\n"
          ]
        }
      ],
      "source": [
        "from distilabel.llms import TransformersLLM\n",
        "from distilabel.steps.tasks import TextGeneration\n",
        "from huggingface_hub import login\n",
        "\n",
        "# GET YOUR OWN HUGGING FACE KEY FROM https://huggingface.co/settings/tokens!!!!!!!\n",
        "# Login to Hugging Face to access mode\n",
        "# login(\"\")"
      ]
    },
    {
      "cell_type": "code",
      "execution_count": 3,
      "id": "5c8bad95",
      "metadata": {
        "colab": {
          "base_uri": "https://localhost:8080/"
        },
        "id": "5c8bad95",
        "outputId": "e18d9548-578f-486c-fd28-1d031ed9e460"
      },
      "outputs": [
        {
          "name": "stderr",
          "output_type": "stream",
          "text": [
            "Step 'None' hasn't received a pipeline, and it hasn't been created within a `Pipeline` context. Please, use `with Pipeline() as pipeline:` and create the step within the context.\n",
            "Device set to use cuda:0\n"
          ]
        }
      ],
      "source": [
        "\n",
        "# Configuration for consistent generation settings across all LLMs\n",
        "GENERATION_CONFIG = {\n",
        "    \"max_new_tokens\": 5000,  # Increase from default (usually 128)\n",
        "}\n",
        "\n",
        "# HuggingFaceTB/SmolLM2-135M-Instruct\n",
        "# HuggingFaceTB/SmolLM2-360M-Instruct\n",
        "# HuggingFaceTB/SmolLM2-1.7B-Instruct\n",
        "# The <think/> part can be removed!!\n",
        "# HuggingFaceTB/SmolLM3-3B\n",
        "# Qwen/Qwen2.5-1.5B-Instruct\n",
        "# Qwen/Qwen3-4B-Instruct-2507\n",
        "# Qwen/Qwen2.5-0.5B-Instruct\n",
        "llm_model = \"HuggingFaceTB/SmolLM2-1.7B-Instruct\"\n",
        "llm = TransformersLLM(\n",
        "    model=llm_model,\n",
        "    generation_kwargs=GENERATION_CONFIG\n",
        ")\n",
        "gen = TextGeneration(llm=llm)\n",
        "gen.load()"
      ]
    },
    {
      "cell_type": "markdown",
      "id": "e357b0f9",
      "metadata": {},
      "source": [
        "# SelfInstruct\n",
        "\n",
        "Instruction tuning!"
      ]
    },
    {
      "cell_type": "code",
      "execution_count": null,
      "id": "ac1d60f4",
      "metadata": {
        "colab": {
          "base_uri": "https://localhost:8080/"
        },
        "id": "ac1d60f4",
        "outputId": "6fb6ae51-fc42-43c7-ec75-cea76b1fddd4"
      },
      "outputs": [
        {
          "name": "stdout",
          "output_type": "stream",
          "text": [
            "Generated prompt:\n",
            " When a user requests a flowchart, diagram, or chart, do not send any intermediate, planning, or step-listing messages. Do not ask the user to confirm or modify steps unless they specifically request it. Only send a single final message after the diagram or elements have been created, such as \"I have created the flowchart as requested.\" \n",
            "\n",
            "\n",
            "\n"
          ]
        }
      ],
      "source": [
        "# SELF-INSTRUCT\n",
        "\n",
        "# original seed prompt\n",
        "prompt_for_instruction_tune = \"\"\"\n",
        "Only Generate prompt instructions, nothing else. No Comments.\n",
        "Generate prompt instructions to make sure that the following are respected:\n",
        "- When a user requests a flowchart, diagram, or chart to be created, do not send any intermediate, planning, or step-listing messages. Do not ask the user to confirm or modify steps unless they specifically request it. Only send a single final message after the diagram or elements have been created, such as 'I have created the flowchart as requested\n",
        "- When a user requests a flowchart, diagram, or chart, DO NOT provide any explanations, plans, or step lists. Instead, IMMEDIATELY take the action and ONLY reply after it's done with the result\n",
        "\"\"\"\n",
        "\n",
        "## This generates a set of instructions ###\n",
        "# We will now use the llm to generate a prompt for *instruction tuning*.\n",
        "result_prompt_for_instruction_tune = next(gen.process([{\"instruction\": prompt_for_instruction_tune}]))\n",
        "print(\"Generated prompt:\\n\", result_prompt_for_instruction_tune[0][\"generation\"], \"\\n\\n\\n\")\n",
        "self_instruct_result = result_prompt_for_instruction_tune[0][\"generation\"]"
      ]
    },
    {
      "cell_type": "markdown",
      "id": "c6fbcf1d",
      "metadata": {},
      "source": [
        "# EvolInstruct\n",
        "**EvolInstruct** is a prompting technique that takes an input instruction and evolves it into a better version of the same instruction. This better version is defined according to a set of criteria and adds constraints, deepening, concretizing, reasoning or complications to the original instruction. The process can be repeated multiple times to create various evolutions of the same instruction, ideally leading to a better version of the original instruction."
      ]
    },
    {
      "cell_type": "code",
      "execution_count": 5,
      "id": "f4039507",
      "metadata": {
        "colab": {
          "base_uri": "https://localhost:8080/"
        },
        "id": "f4039507",
        "outputId": "0a94a943-d56e-4abf-866c-da2083808204"
      },
      "outputs": [
        {
          "name": "stderr",
          "output_type": "stream",
          "text": [
            "Step 'None' hasn't received a pipeline, and it hasn't been created within a `Pipeline` context. Please, use `with Pipeline() as pipeline:` and create the step within the context.\n",
            "Device set to use cuda:0\n"
          ]
        },
        {
          "name": "stdout",
          "output_type": "stream",
          "text": [
            "Before EvolInstruct instruction:\n",
            " \n",
            "Only Generate prompt instructions, nothing else. No Comments.\n",
            "Generate prompt instructions to make sure that the following are respected:\n",
            "- When a user requests a flowchart, diagram, or chart to be created, do not send any intermediate, planning, or step-listing messages. Do not ask the user to confirm or modify steps unless they specifically request it. Only send a single final message after the diagram or elements have been created, such as 'I have created the flowchart as requested\n",
            "- When a user requests a flowchart, diagram, or chart, DO NOT provide any explanations, plans, or step lists. Instead, IMMEDIATELY take the action and ONLY reply after it's done with the result\n",
            " \n",
            "\n",
            "\n",
            "\n",
            "After EvolInstruct instruction:\n",
            " \"Create a sophisticated and multifaceted plan for organizing a large-scale international charity gala that incorporates cutting-edge financial forecasting tools, avant-garde marketing strategies, diverse volunteer engagement approaches, and intricate operational logistics. To guarantee the success of this event, it's crucial to implement advanced risk management methodologies to anticipate potential challenges and develop robust contingency plans to address any unexpected issues that may arise during the planning process.\" \n",
            "\n",
            "\n",
            "\n"
          ]
        }
      ],
      "source": [
        "from distilabel.steps.tasks import EvolInstruct\n",
        "\n",
        "total_evolutions=5\n",
        "evol_instruct = EvolInstruct(llm=llm, num_evolutions=total_evolutions)\n",
        "evol_instruct.load()\n",
        "\n",
        "\n",
        "evol_instruct_result = next(evol_instruct.process([{\"instruction\": prompt_for_instruction_tune}]))\n",
        "# What is the process of generating synthetic data through manual prompting?\n",
        "# Example Output - And, how does the artificial intelligence system, GPT4, use machine learning algorithms to manipulate the input data into synthetic data?\n",
        "print(\"Before EvolInstruct instruction:\\n\", prompt_for_instruction_tune, \"\\n\\n\\n\")\n",
        "print(\"After EvolInstruct instruction:\\n\", evol_instruct_result[0][\"evolved_instruction\"], \"\\n\\n\\n\")\n",
        "evol_instruct_result_final = evol_instruct_result[0][\"evolved_instruction\"]\n",
        "\n",
        "# The instruction is now more complex but has lost some of the original meaning. So, take into account that evolving can be a double-edged sword and we need to be careful with the quality of the data we generate.\n"
      ]
    },
    {
      "cell_type": "markdown",
      "id": "e35443d2",
      "metadata": {},
      "source": [
        "# Evaluate completions with UltraFeedback"
      ]
    },
    {
      "cell_type": "code",
      "execution_count": 6,
      "id": "6e7f5f22",
      "metadata": {
        "colab": {
          "base_uri": "https://localhost:8080/",
          "height": 538,
          "referenced_widgets": [
            "cb29a34fcf684d7b96a259e17ff376ff",
            "eadf0d41bddf41c2bac84fa7727cf211",
            "3bce3e2e119a4144a6a11ec78f7d6ce6",
            "d7fa6f3fcaaa4ae399f2b1a8564d5fda",
            "93c7711ba22e4f09a72fbd813fccefcc",
            "1555c34d3ea04980a7ecef2cd6bc626e",
            "9bb8adb8a0bb4a0d87d7ae0f0857b273",
            "bf3a63ce76254dac8ae9323ca4875242",
            "70b14e3058e04126aabfb19f1ff2556c",
            "3c834d702ea3447b8caf5e7e32f9e79c",
            "c534c60526ea4ad299189d02da91dfc3"
          ]
        },
        "id": "6e7f5f22",
        "outputId": "9009f5cb-6ca5-48fe-8969-c5028990b636"
      },
      "outputs": [
        {
          "name": "stderr",
          "output_type": "stream",
          "text": [
            "Step 'None' hasn't received a pipeline, and it hasn't been created within a `Pipeline` context. Please, use `with Pipeline() as pipeline:` and create the step within the context.\n",
            "Fetching 3 files: 100%|██████████| 3/3 [00:00<00:00, 15.00it/s]\n",
            "Loading checkpoint shards: 100%|██████████| 3/3 [00:00<00:00, 26.55it/s]\n",
            "Device set to use cuda:0\n"
          ]
        },
        {
          "name": "stdout",
          "output_type": "stream",
          "text": [
            "================================================================================\n",
            "ULTRAFEEDBACK EVALUATION RESULTS\n",
            "================================================================================\n",
            "📝 INSTRUCTION: \n",
            "Only Generate prompt instructions, nothing else. No Comments.\n",
            "Generate prompt instructions to make sure that the following are respected:\n",
            "- When a user requests a flowchart, diagram, or chart to be created, do not send any intermediate, planning, or step-listing messages. Do not ask the user to confirm or modify steps unless they specifically request it. Only send a single final message after the diagram or elements have been created, such as 'I have created the flowchart as requested\n",
            "- When a user requests a flowchart, diagram, or chart, DO NOT provide any explanations, plans, or step lists. Instead, IMMEDIATELY take the action and ONLY reply after it's done with the result\n",
            "\n",
            "\n",
            "────────────────────────────────────────────────────────────\n",
            "\n",
            "🤖 GENERATION 1:\n",
            "   Text: \"When a user requests a flowchart, diagram, or chart, do not send any intermediate, planning, or step-listing messages. Do not ask the user to confirm or modify steps unless they specifically request it. Only send a single final message after the diagram or elements have been created, such as \"I have created the flowchart as requested.\"\"\n",
            "   ⭐ Rating: 5/5\n",
            "   💭 Rationale: The response perfectly follows the instruction to generate only prompt instructions without any additional comments or explanations. It accurately captures both requirements: no intermediate steps or planning messages when creating diagrams, and immediate delivery of the final result. The phrasing is clear, concise, and directly addresses the constraints specified in the instruction. There are no hallucinations, uncertainties, or deviations—only precise compliance with the directive.\n",
            "\n",
            "🤖 GENERATION 2:\n",
            "   Text: \"\"Create a sophisticated and multifaceted plan for organizing a large-scale international charity gala that incorporates cutting-edge financial forecasting tools, avant-garde marketing strategies, diverse volunteer engagement approaches, and intricate operational logistics. To guarantee the success of this event, it's crucial to implement advanced risk management methodologies to anticipate potential challenges and develop robust contingency plans to address any unexpected issues that may arise during the planning process.\"\"\n",
            "   ⭐ Rating: 1/5\n",
            "   💭 Rationale: This response completely fails to follow the instruction. Instead of generating prompt instructions about handling flowcharts, diagrams, or charts according to the specified rules, it creates an entirely unrelated prompt about organizing a charity gala. It introduces fabricated content with no connection to the original task. There is no mention of flowcharts, diagrams, or the required behavior regarding intermediate steps or final outputs. The output is irrelevant, inaccurate, and contains severe hallucinations. It does not even attempt to fulfill the core instruction.\n",
            "\n",
            "================================================================================\n",
            "🏆 WINNER: Generation 1 (Rating: 5)\n",
            "================================================================================\n"
          ]
        }
      ],
      "source": [
        "# EVALUATE WITH ULTRAFEEDBACK\n",
        "\n",
        "from distilabel.llms import TransformersLLM\n",
        "from distilabel.steps.tasks import UltraFeedback\n",
        "\n",
        "llm = TransformersLLM(model=\"Qwen/Qwen3-4B-Instruct-2507\", generation_kwargs=GENERATION_CONFIG)\n",
        "ultrafeedback = UltraFeedback(llm=llm)\n",
        "ultrafeedback.load()\n",
        "\n",
        "instruction = prompt_for_instruction_tune\n",
        "completion_a = self_instruct_result\n",
        "completion_b = evol_instruct_result_final\n",
        "\n",
        "feedback_results = next(ultrafeedback.process([{\n",
        "    \"instruction\": instruction,\n",
        "    \"generations\": [completion_a, completion_b]\n",
        "}]))\n",
        "\n",
        "# Print the results nicely\n",
        "print(\"=\"*80)\n",
        "print(\"ULTRAFEEDBACK EVALUATION RESULTS\")\n",
        "print(\"=\"*80)\n",
        "\n",
        "result = feedback_results[0]  # Get the first (and only) result\n",
        "\n",
        "print(f\"📝 INSTRUCTION: {result['instruction']}\")\n",
        "print(\"\\n\" + \"─\"*60)\n",
        "\n",
        "# Loop through generations and their evaluations\n",
        "for i, (generation, rating, rationale) in enumerate(zip(\n",
        "    result['generations'],\n",
        "    result['ratings'],\n",
        "    result['rationales']\n",
        "), 1):\n",
        "\n",
        "    print(f\"\\n🤖 GENERATION {i}:\")\n",
        "    print(f\"   Text: \\\"{generation}\\\"\")\n",
        "    print(f\"   ⭐ Rating: {rating}/5\")\n",
        "    print(f\"   💭 Rationale: {rationale}\")\n",
        "\n",
        "print(\"\\n\" + \"=\"*80)\n",
        "print(f\"🏆 WINNER: Generation {result['ratings'].index(max(result['ratings'])) + 1} (Rating: {max(result['ratings'])})\")\n",
        "print(\"=\"*80)\n",
        "# Example Output\n",
        "# [\n",
        "#     {\n",
        "#         'ratings': [4, 5],\n",
        "#         'rationales': ['could have been more specific', 'good definition'],\n",
        "#     }\n",
        "# ]"
      ]
    }
  ],
  "metadata": {
    "accelerator": "GPU",
    "colab": {
      "gpuType": "T4",
      "provenance": []
    },
    "kernelspec": {
      "display_name": "smol-course-2",
      "language": "python",
      "name": "python3"
    },
    "language_info": {
      "codemirror_mode": {
        "name": "ipython",
        "version": 3
      },
      "file_extension": ".py",
      "mimetype": "text/x-python",
      "name": "python",
      "nbconvert_exporter": "python",
      "pygments_lexer": "ipython3",
      "version": "3.10.12"
    },
    "widgets": {
      "application/vnd.jupyter.widget-state+json": {
        "1555c34d3ea04980a7ecef2cd6bc626e": {
          "model_module": "@jupyter-widgets/base",
          "model_module_version": "1.2.0",
          "model_name": "LayoutModel",
          "state": {
            "_model_module": "@jupyter-widgets/base",
            "_model_module_version": "1.2.0",
            "_model_name": "LayoutModel",
            "_view_count": null,
            "_view_module": "@jupyter-widgets/base",
            "_view_module_version": "1.2.0",
            "_view_name": "LayoutView",
            "align_content": null,
            "align_items": null,
            "align_self": null,
            "border": null,
            "bottom": null,
            "display": null,
            "flex": null,
            "flex_flow": null,
            "grid_area": null,
            "grid_auto_columns": null,
            "grid_auto_flow": null,
            "grid_auto_rows": null,
            "grid_column": null,
            "grid_gap": null,
            "grid_row": null,
            "grid_template_areas": null,
            "grid_template_columns": null,
            "grid_template_rows": null,
            "height": null,
            "justify_content": null,
            "justify_items": null,
            "left": null,
            "margin": null,
            "max_height": null,
            "max_width": null,
            "min_height": null,
            "min_width": null,
            "object_fit": null,
            "object_position": null,
            "order": null,
            "overflow": null,
            "overflow_x": null,
            "overflow_y": null,
            "padding": null,
            "right": null,
            "top": null,
            "visibility": null,
            "width": null
          }
        },
        "3bce3e2e119a4144a6a11ec78f7d6ce6": {
          "model_module": "@jupyter-widgets/controls",
          "model_module_version": "1.5.0",
          "model_name": "FloatProgressModel",
          "state": {
            "_dom_classes": [],
            "_model_module": "@jupyter-widgets/controls",
            "_model_module_version": "1.5.0",
            "_model_name": "FloatProgressModel",
            "_view_count": null,
            "_view_module": "@jupyter-widgets/controls",
            "_view_module_version": "1.5.0",
            "_view_name": "ProgressView",
            "bar_style": "success",
            "description": "",
            "description_tooltip": null,
            "layout": "IPY_MODEL_bf3a63ce76254dac8ae9323ca4875242",
            "max": 3,
            "min": 0,
            "orientation": "horizontal",
            "style": "IPY_MODEL_70b14e3058e04126aabfb19f1ff2556c",
            "value": 3
          }
        },
        "3c834d702ea3447b8caf5e7e32f9e79c": {
          "model_module": "@jupyter-widgets/base",
          "model_module_version": "1.2.0",
          "model_name": "LayoutModel",
          "state": {
            "_model_module": "@jupyter-widgets/base",
            "_model_module_version": "1.2.0",
            "_model_name": "LayoutModel",
            "_view_count": null,
            "_view_module": "@jupyter-widgets/base",
            "_view_module_version": "1.2.0",
            "_view_name": "LayoutView",
            "align_content": null,
            "align_items": null,
            "align_self": null,
            "border": null,
            "bottom": null,
            "display": null,
            "flex": null,
            "flex_flow": null,
            "grid_area": null,
            "grid_auto_columns": null,
            "grid_auto_flow": null,
            "grid_auto_rows": null,
            "grid_column": null,
            "grid_gap": null,
            "grid_row": null,
            "grid_template_areas": null,
            "grid_template_columns": null,
            "grid_template_rows": null,
            "height": null,
            "justify_content": null,
            "justify_items": null,
            "left": null,
            "margin": null,
            "max_height": null,
            "max_width": null,
            "min_height": null,
            "min_width": null,
            "object_fit": null,
            "object_position": null,
            "order": null,
            "overflow": null,
            "overflow_x": null,
            "overflow_y": null,
            "padding": null,
            "right": null,
            "top": null,
            "visibility": null,
            "width": null
          }
        },
        "70b14e3058e04126aabfb19f1ff2556c": {
          "model_module": "@jupyter-widgets/controls",
          "model_module_version": "1.5.0",
          "model_name": "ProgressStyleModel",
          "state": {
            "_model_module": "@jupyter-widgets/controls",
            "_model_module_version": "1.5.0",
            "_model_name": "ProgressStyleModel",
            "_view_count": null,
            "_view_module": "@jupyter-widgets/base",
            "_view_module_version": "1.2.0",
            "_view_name": "StyleView",
            "bar_color": null,
            "description_width": ""
          }
        },
        "93c7711ba22e4f09a72fbd813fccefcc": {
          "model_module": "@jupyter-widgets/base",
          "model_module_version": "1.2.0",
          "model_name": "LayoutModel",
          "state": {
            "_model_module": "@jupyter-widgets/base",
            "_model_module_version": "1.2.0",
            "_model_name": "LayoutModel",
            "_view_count": null,
            "_view_module": "@jupyter-widgets/base",
            "_view_module_version": "1.2.0",
            "_view_name": "LayoutView",
            "align_content": null,
            "align_items": null,
            "align_self": null,
            "border": null,
            "bottom": null,
            "display": null,
            "flex": null,
            "flex_flow": null,
            "grid_area": null,
            "grid_auto_columns": null,
            "grid_auto_flow": null,
            "grid_auto_rows": null,
            "grid_column": null,
            "grid_gap": null,
            "grid_row": null,
            "grid_template_areas": null,
            "grid_template_columns": null,
            "grid_template_rows": null,
            "height": null,
            "justify_content": null,
            "justify_items": null,
            "left": null,
            "margin": null,
            "max_height": null,
            "max_width": null,
            "min_height": null,
            "min_width": null,
            "object_fit": null,
            "object_position": null,
            "order": null,
            "overflow": null,
            "overflow_x": null,
            "overflow_y": null,
            "padding": null,
            "right": null,
            "top": null,
            "visibility": null,
            "width": null
          }
        },
        "9bb8adb8a0bb4a0d87d7ae0f0857b273": {
          "model_module": "@jupyter-widgets/controls",
          "model_module_version": "1.5.0",
          "model_name": "DescriptionStyleModel",
          "state": {
            "_model_module": "@jupyter-widgets/controls",
            "_model_module_version": "1.5.0",
            "_model_name": "DescriptionStyleModel",
            "_view_count": null,
            "_view_module": "@jupyter-widgets/base",
            "_view_module_version": "1.2.0",
            "_view_name": "StyleView",
            "description_width": ""
          }
        },
        "bf3a63ce76254dac8ae9323ca4875242": {
          "model_module": "@jupyter-widgets/base",
          "model_module_version": "1.2.0",
          "model_name": "LayoutModel",
          "state": {
            "_model_module": "@jupyter-widgets/base",
            "_model_module_version": "1.2.0",
            "_model_name": "LayoutModel",
            "_view_count": null,
            "_view_module": "@jupyter-widgets/base",
            "_view_module_version": "1.2.0",
            "_view_name": "LayoutView",
            "align_content": null,
            "align_items": null,
            "align_self": null,
            "border": null,
            "bottom": null,
            "display": null,
            "flex": null,
            "flex_flow": null,
            "grid_area": null,
            "grid_auto_columns": null,
            "grid_auto_flow": null,
            "grid_auto_rows": null,
            "grid_column": null,
            "grid_gap": null,
            "grid_row": null,
            "grid_template_areas": null,
            "grid_template_columns": null,
            "grid_template_rows": null,
            "height": null,
            "justify_content": null,
            "justify_items": null,
            "left": null,
            "margin": null,
            "max_height": null,
            "max_width": null,
            "min_height": null,
            "min_width": null,
            "object_fit": null,
            "object_position": null,
            "order": null,
            "overflow": null,
            "overflow_x": null,
            "overflow_y": null,
            "padding": null,
            "right": null,
            "top": null,
            "visibility": null,
            "width": null
          }
        },
        "c534c60526ea4ad299189d02da91dfc3": {
          "model_module": "@jupyter-widgets/controls",
          "model_module_version": "1.5.0",
          "model_name": "DescriptionStyleModel",
          "state": {
            "_model_module": "@jupyter-widgets/controls",
            "_model_module_version": "1.5.0",
            "_model_name": "DescriptionStyleModel",
            "_view_count": null,
            "_view_module": "@jupyter-widgets/base",
            "_view_module_version": "1.2.0",
            "_view_name": "StyleView",
            "description_width": ""
          }
        },
        "cb29a34fcf684d7b96a259e17ff376ff": {
          "model_module": "@jupyter-widgets/controls",
          "model_module_version": "1.5.0",
          "model_name": "HBoxModel",
          "state": {
            "_dom_classes": [],
            "_model_module": "@jupyter-widgets/controls",
            "_model_module_version": "1.5.0",
            "_model_name": "HBoxModel",
            "_view_count": null,
            "_view_module": "@jupyter-widgets/controls",
            "_view_module_version": "1.5.0",
            "_view_name": "HBoxView",
            "box_style": "",
            "children": [
              "IPY_MODEL_eadf0d41bddf41c2bac84fa7727cf211",
              "IPY_MODEL_3bce3e2e119a4144a6a11ec78f7d6ce6",
              "IPY_MODEL_d7fa6f3fcaaa4ae399f2b1a8564d5fda"
            ],
            "layout": "IPY_MODEL_93c7711ba22e4f09a72fbd813fccefcc"
          }
        },
        "d7fa6f3fcaaa4ae399f2b1a8564d5fda": {
          "model_module": "@jupyter-widgets/controls",
          "model_module_version": "1.5.0",
          "model_name": "HTMLModel",
          "state": {
            "_dom_classes": [],
            "_model_module": "@jupyter-widgets/controls",
            "_model_module_version": "1.5.0",
            "_model_name": "HTMLModel",
            "_view_count": null,
            "_view_module": "@jupyter-widgets/controls",
            "_view_module_version": "1.5.0",
            "_view_name": "HTMLView",
            "description": "",
            "description_tooltip": null,
            "layout": "IPY_MODEL_3c834d702ea3447b8caf5e7e32f9e79c",
            "placeholder": "​",
            "style": "IPY_MODEL_c534c60526ea4ad299189d02da91dfc3",
            "value": " 3/3 [00:00&lt;00:00,  2.33it/s]"
          }
        },
        "eadf0d41bddf41c2bac84fa7727cf211": {
          "model_module": "@jupyter-widgets/controls",
          "model_module_version": "1.5.0",
          "model_name": "HTMLModel",
          "state": {
            "_dom_classes": [],
            "_model_module": "@jupyter-widgets/controls",
            "_model_module_version": "1.5.0",
            "_model_name": "HTMLModel",
            "_view_count": null,
            "_view_module": "@jupyter-widgets/controls",
            "_view_module_version": "1.5.0",
            "_view_name": "HTMLView",
            "description": "",
            "description_tooltip": null,
            "layout": "IPY_MODEL_1555c34d3ea04980a7ecef2cd6bc626e",
            "placeholder": "​",
            "style": "IPY_MODEL_9bb8adb8a0bb4a0d87d7ae0f0857b273",
            "value": "Loading checkpoint shards: 100%"
          }
        }
      }
    }
  },
  "nbformat": 4,
  "nbformat_minor": 5
}
